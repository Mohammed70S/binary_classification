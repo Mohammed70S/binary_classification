{
  "nbformat": 4,
  "nbformat_minor": 0,
  "metadata": {
    "colab": {
      "provenance": [],
      "authorship_tag": "ABX9TyPIAzTW6/zyrjrVtkQoUzBQ",
      "include_colab_link": true
    },
    "kernelspec": {
      "name": "python3",
      "display_name": "Python 3"
    },
    "language_info": {
      "name": "python"
    }
  },
  "cells": [
    {
      "cell_type": "markdown",
      "metadata": {
        "id": "view-in-github",
        "colab_type": "text"
      },
      "source": [
        "<a href=\"https://colab.research.google.com/github/Mohammed70S/binary_classification/blob/main/Binary_classification.ipynb\" target=\"_parent\"><img src=\"https://colab.research.google.com/assets/colab-badge.svg\" alt=\"Open In Colab\"/></a>"
      ]
    },
    {
      "cell_type": "code",
      "execution_count": 1,
      "metadata": {
        "colab": {
          "base_uri": "https://localhost:8080/"
        },
        "id": "6jwpa1mk6u09",
        "outputId": "682af6f1-f154-45fe-fbaf-15a7b1a5f765"
      },
      "outputs": [
        {
          "output_type": "stream",
          "name": "stdout",
          "text": [
            "   HeartDiseaseorAttack  HighBP  HighChol  CholCheck  BMI  Smoker  Stroke  \\\n",
            "0                     0       1         1          1   40       1       0   \n",
            "1                     0       0         0          0   25       1       0   \n",
            "2                     0       1         1          1   28       0       0   \n",
            "3                     0       1         0          1   27       0       0   \n",
            "4                     0       1         1          1   24       0       0   \n",
            "\n",
            "   Diabetes  PhysActivity  Fruits  ...  AnyHealthcare  NoDocbcCost  GenHlth  \\\n",
            "0         0             0       0  ...              1            0        5   \n",
            "1         0             1       0  ...              0            1        3   \n",
            "2         0             0       1  ...              1            1        5   \n",
            "3         0             1       1  ...              1            0        2   \n",
            "4         0             1       1  ...              1            0        2   \n",
            "\n",
            "   MentHlth  PhysHlth  DiffWalk  Sex  Age  Education  Income  \n",
            "0        18        15         1    0    9          4       3  \n",
            "1         0         0         0    0    7          6       1  \n",
            "2        30        30         1    0    9          4       8  \n",
            "3         0         0         0    0   11          3       6  \n",
            "4         3         0         0    0   11          5       4  \n",
            "\n",
            "[5 rows x 22 columns]\n"
          ]
        }
      ],
      "source": [
        "import pandas as pd\n",
        "\n",
        "# Load the dataset\n",
        "df = pd.read_csv('heart_disease_health_indicators.csv')\n",
        "print(df.head())\n"
      ]
    },
    {
      "cell_type": "code",
      "source": [
        "print(df.isnull().sum())\n"
      ],
      "metadata": {
        "colab": {
          "base_uri": "https://localhost:8080/"
        },
        "id": "faKfV0u87r_H",
        "outputId": "18a84d19-39e3-499b-c7cb-c13b294f0808"
      },
      "execution_count": 2,
      "outputs": [
        {
          "output_type": "stream",
          "name": "stdout",
          "text": [
            "HeartDiseaseorAttack    0\n",
            "HighBP                  0\n",
            "HighChol                0\n",
            "CholCheck               0\n",
            "BMI                     0\n",
            "Smoker                  0\n",
            "Stroke                  0\n",
            "Diabetes                0\n",
            "PhysActivity            0\n",
            "Fruits                  0\n",
            "Veggies                 0\n",
            "HvyAlcoholConsump       0\n",
            "AnyHealthcare           0\n",
            "NoDocbcCost             0\n",
            "GenHlth                 0\n",
            "MentHlth                0\n",
            "PhysHlth                0\n",
            "DiffWalk                0\n",
            "Sex                     0\n",
            "Age                     0\n",
            "Education               0\n",
            "Income                  0\n",
            "dtype: int64\n"
          ]
        }
      ]
    },
    {
      "cell_type": "code",
      "source": [
        "df.fillna(method='ffill', inplace=True)  # Example: forward fill\n"
      ],
      "metadata": {
        "colab": {
          "base_uri": "https://localhost:8080/"
        },
        "id": "EIG8Ohsg7uzN",
        "outputId": "fdc2de20-5a92-4fb7-856e-35e64c256196"
      },
      "execution_count": 3,
      "outputs": [
        {
          "output_type": "stream",
          "name": "stderr",
          "text": [
            "<ipython-input-3-ccac8d51870e>:1: FutureWarning: DataFrame.fillna with 'method' is deprecated and will raise in a future version. Use obj.ffill() or obj.bfill() instead.\n",
            "  df.fillna(method='ffill', inplace=True)  # Example: forward fill\n"
          ]
        }
      ]
    },
    {
      "cell_type": "code",
      "source": [
        "X = df.drop('HeartDiseaseorAttack', axis=1)\n",
        "y = df['HeartDiseaseorAttack']\n"
      ],
      "metadata": {
        "id": "iPRFeENY7wl0"
      },
      "execution_count": 4,
      "outputs": []
    },
    {
      "cell_type": "code",
      "source": [
        "from sklearn.preprocessing import StandardScaler\n",
        "\n",
        "scaler = StandardScaler()\n",
        "X_scaled = scaler.fit_transform(X)\n"
      ],
      "metadata": {
        "id": "VJew0IX67ybf"
      },
      "execution_count": 5,
      "outputs": []
    },
    {
      "cell_type": "code",
      "source": [
        "from sklearn.model_selection import train_test_split\n",
        "\n",
        "X_train, X_test, y_train, y_test = train_test_split(X_scaled, y, test_size=0.2, random_state=42)\n"
      ],
      "metadata": {
        "id": "782n_zux7z69"
      },
      "execution_count": 6,
      "outputs": []
    },
    {
      "cell_type": "code",
      "source": [
        "from keras.models import Sequential\n",
        "from keras.layers import Dense\n",
        "\n",
        "model = Sequential()\n",
        "model.add(Dense(64, activation='relu', input_shape=(X_train.shape[1],)))\n",
        "model.add(Dense(32, activation='relu'))\n",
        "model.add(Dense(1, activation='sigmoid'))  # Binary classification\n"
      ],
      "metadata": {
        "colab": {
          "base_uri": "https://localhost:8080/"
        },
        "id": "Vjcg2BRa71p6",
        "outputId": "78be39c5-829b-42df-d202-84084affe5f8"
      },
      "execution_count": 7,
      "outputs": [
        {
          "output_type": "stream",
          "name": "stderr",
          "text": [
            "/usr/local/lib/python3.10/dist-packages/keras/src/layers/core/dense.py:87: UserWarning: Do not pass an `input_shape`/`input_dim` argument to a layer. When using Sequential models, prefer using an `Input(shape)` object as the first layer in the model instead.\n",
            "  super().__init__(activity_regularizer=activity_regularizer, **kwargs)\n"
          ]
        }
      ]
    },
    {
      "cell_type": "code",
      "source": [
        "from keras.models import Sequential\n",
        "from keras.layers import Dense\n",
        "from keras.optimizers import Adam, SGD\n",
        "from keras.callbacks import LearningRateScheduler, EarlyStopping\n",
        "\n",
        "# 1. Define the model\n",
        "model = Sequential()\n",
        "model.add(Dense(64, activation='relu', input_shape=(X_train.shape[1],)))\n",
        "model.add(Dense(32, activation='relu'))\n",
        "model.add(Dense(1, activation='sigmoid'))  # Binary classification for heart disease\n",
        "\n",
        "# 2. Optimizer with adjusted learning rate\n",
        "learning_rate = 0.0001  # Adjusted learning rate\n",
        "optimizer = Adam(learning_rate=learning_rate)  # You can also try SGD(learning_rate=0.001, momentum=0.9)\n",
        "\n",
        "# 3. Compile the model\n",
        "model.compile(optimizer=optimizer, loss='binary_crossentropy', metrics=['accuracy'])\n",
        "\n",
        "# 4. Learning Rate Scheduler\n",
        "def lr_scheduler(epoch, lr):\n",
        "    if epoch > 10:  # Reduce learning rate after 10 epochs\n",
        "        return lr * 0.5\n",
        "    return lr\n",
        "\n",
        "lr_callback = LearningRateScheduler(lr_scheduler)\n",
        "\n",
        "# 5. Early Stopping\n",
        "early_stop = EarlyStopping(monitor='val_loss', patience=5, restore_best_weights=True)\n",
        "\n",
        "# 6. Train the model with both callbacks\n",
        "history = model.fit(\n",
        "    X_train, y_train,\n",
        "    epochs=100,  # Increased epochs to ensure model has time to converge with lower learning rate\n",
        "    validation_split=0.2,\n",
        "    batch_size=32,\n",
        "    callbacks=[lr_callback, early_stop]  # Add both LearningRateScheduler and EarlyStopping callbacks\n",
        ")\n",
        "\n",
        "# 7. Plot the training loss to visualize performance\n",
        "import matplotlib.pyplot as plt\n",
        "\n",
        "plt.plot(history.history['loss'], label='Train Loss')\n",
        "plt.plot(history.history['val_loss'], label='Validation Loss')\n",
        "plt.title('Model Loss During Training')\n",
        "plt.ylabel('Loss')\n",
        "plt.xlabel('Epoch')\n",
        "plt.legend()\n",
        "plt.show()\n"
      ],
      "metadata": {
        "colab": {
          "base_uri": "https://localhost:8080/",
          "height": 1000
        },
        "id": "lKuhtUWQ728_",
        "outputId": "b76cdb2e-3d21-4791-f66e-c1a646e6158e"
      },
      "execution_count": 8,
      "outputs": [
        {
          "output_type": "stream",
          "name": "stderr",
          "text": [
            "/usr/local/lib/python3.10/dist-packages/keras/src/layers/core/dense.py:87: UserWarning: Do not pass an `input_shape`/`input_dim` argument to a layer. When using Sequential models, prefer using an `Input(shape)` object as the first layer in the model instead.\n",
            "  super().__init__(activity_regularizer=activity_regularizer, **kwargs)\n"
          ]
        },
        {
          "output_type": "stream",
          "name": "stdout",
          "text": [
            "Epoch 1/100\n",
            "\u001b[1m5074/5074\u001b[0m \u001b[32m━━━━━━━━━━━━━━━━━━━━\u001b[0m\u001b[37m\u001b[0m \u001b[1m21s\u001b[0m 3ms/step - accuracy: 0.8982 - loss: 0.3020 - val_accuracy: 0.9068 - val_loss: 0.2434 - learning_rate: 1.0000e-04\n",
            "Epoch 2/100\n",
            "\u001b[1m5074/5074\u001b[0m \u001b[32m━━━━━━━━━━━━━━━━━━━━\u001b[0m\u001b[37m\u001b[0m \u001b[1m13s\u001b[0m 3ms/step - accuracy: 0.9086 - loss: 0.2372 - val_accuracy: 0.9076 - val_loss: 0.2415 - learning_rate: 1.0000e-04\n",
            "Epoch 3/100\n",
            "\u001b[1m5074/5074\u001b[0m \u001b[32m━━━━━━━━━━━━━━━━━━━━\u001b[0m\u001b[37m\u001b[0m \u001b[1m13s\u001b[0m 3ms/step - accuracy: 0.9060 - loss: 0.2417 - val_accuracy: 0.9080 - val_loss: 0.2402 - learning_rate: 1.0000e-04\n",
            "Epoch 4/100\n",
            "\u001b[1m5074/5074\u001b[0m \u001b[32m━━━━━━━━━━━━━━━━━━━━\u001b[0m\u001b[37m\u001b[0m \u001b[1m21s\u001b[0m 3ms/step - accuracy: 0.9090 - loss: 0.2371 - val_accuracy: 0.9082 - val_loss: 0.2395 - learning_rate: 1.0000e-04\n",
            "Epoch 5/100\n",
            "\u001b[1m5074/5074\u001b[0m \u001b[32m━━━━━━━━━━━━━━━━━━━━\u001b[0m\u001b[37m\u001b[0m \u001b[1m13s\u001b[0m 2ms/step - accuracy: 0.9082 - loss: 0.2373 - val_accuracy: 0.9078 - val_loss: 0.2398 - learning_rate: 1.0000e-04\n",
            "Epoch 6/100\n",
            "\u001b[1m5074/5074\u001b[0m \u001b[32m━━━━━━━━━━━━━━━━━━━━\u001b[0m\u001b[37m\u001b[0m \u001b[1m21s\u001b[0m 3ms/step - accuracy: 0.9085 - loss: 0.2356 - val_accuracy: 0.9085 - val_loss: 0.2392 - learning_rate: 1.0000e-04\n",
            "Epoch 7/100\n",
            "\u001b[1m5074/5074\u001b[0m \u001b[32m━━━━━━━━━━━━━━━━━━━━\u001b[0m\u001b[37m\u001b[0m \u001b[1m19s\u001b[0m 2ms/step - accuracy: 0.9093 - loss: 0.2340 - val_accuracy: 0.9082 - val_loss: 0.2391 - learning_rate: 1.0000e-04\n",
            "Epoch 8/100\n",
            "\u001b[1m5074/5074\u001b[0m \u001b[32m━━━━━━━━━━━━━━━━━━━━\u001b[0m\u001b[37m\u001b[0m \u001b[1m13s\u001b[0m 3ms/step - accuracy: 0.9091 - loss: 0.2345 - val_accuracy: 0.9082 - val_loss: 0.2391 - learning_rate: 1.0000e-04\n",
            "Epoch 9/100\n",
            "\u001b[1m5074/5074\u001b[0m \u001b[32m━━━━━━━━━━━━━━━━━━━━\u001b[0m\u001b[37m\u001b[0m \u001b[1m12s\u001b[0m 2ms/step - accuracy: 0.9085 - loss: 0.2349 - val_accuracy: 0.9080 - val_loss: 0.2387 - learning_rate: 1.0000e-04\n",
            "Epoch 10/100\n",
            "\u001b[1m5074/5074\u001b[0m \u001b[32m━━━━━━━━━━━━━━━━━━━━\u001b[0m\u001b[37m\u001b[0m \u001b[1m22s\u001b[0m 3ms/step - accuracy: 0.9095 - loss: 0.2333 - val_accuracy: 0.9083 - val_loss: 0.2388 - learning_rate: 1.0000e-04\n",
            "Epoch 11/100\n",
            "\u001b[1m5074/5074\u001b[0m \u001b[32m━━━━━━━━━━━━━━━━━━━━\u001b[0m\u001b[37m\u001b[0m \u001b[1m20s\u001b[0m 3ms/step - accuracy: 0.9087 - loss: 0.2347 - val_accuracy: 0.9083 - val_loss: 0.2387 - learning_rate: 1.0000e-04\n",
            "Epoch 12/100\n",
            "\u001b[1m5074/5074\u001b[0m \u001b[32m━━━━━━━━━━━━━━━━━━━━\u001b[0m\u001b[37m\u001b[0m \u001b[1m19s\u001b[0m 2ms/step - accuracy: 0.9072 - loss: 0.2367 - val_accuracy: 0.9083 - val_loss: 0.2385 - learning_rate: 5.0000e-05\n",
            "Epoch 13/100\n",
            "\u001b[1m5074/5074\u001b[0m \u001b[32m━━━━━━━━━━━━━━━━━━━━\u001b[0m\u001b[37m\u001b[0m \u001b[1m12s\u001b[0m 2ms/step - accuracy: 0.9081 - loss: 0.2334 - val_accuracy: 0.9083 - val_loss: 0.2384 - learning_rate: 2.5000e-05\n",
            "Epoch 14/100\n",
            "\u001b[1m5074/5074\u001b[0m \u001b[32m━━━━━━━━━━━━━━━━━━━━\u001b[0m\u001b[37m\u001b[0m \u001b[1m12s\u001b[0m 2ms/step - accuracy: 0.9087 - loss: 0.2334 - val_accuracy: 0.9084 - val_loss: 0.2384 - learning_rate: 1.2500e-05\n",
            "Epoch 15/100\n",
            "\u001b[1m5074/5074\u001b[0m \u001b[32m━━━━━━━━━━━━━━━━━━━━\u001b[0m\u001b[37m\u001b[0m \u001b[1m22s\u001b[0m 3ms/step - accuracy: 0.9082 - loss: 0.2360 - val_accuracy: 0.9084 - val_loss: 0.2384 - learning_rate: 6.2500e-06\n",
            "Epoch 16/100\n",
            "\u001b[1m5074/5074\u001b[0m \u001b[32m━━━━━━━━━━━━━━━━━━━━\u001b[0m\u001b[37m\u001b[0m \u001b[1m12s\u001b[0m 2ms/step - accuracy: 0.9096 - loss: 0.2332 - val_accuracy: 0.9084 - val_loss: 0.2384 - learning_rate: 3.1250e-06\n",
            "Epoch 17/100\n",
            "\u001b[1m5074/5074\u001b[0m \u001b[32m━━━━━━━━━━━━━━━━━━━━\u001b[0m\u001b[37m\u001b[0m \u001b[1m20s\u001b[0m 2ms/step - accuracy: 0.9078 - loss: 0.2346 - val_accuracy: 0.9084 - val_loss: 0.2384 - learning_rate: 1.5625e-06\n",
            "Epoch 18/100\n",
            "\u001b[1m5074/5074\u001b[0m \u001b[32m━━━━━━━━━━━━━━━━━━━━\u001b[0m\u001b[37m\u001b[0m \u001b[1m22s\u001b[0m 3ms/step - accuracy: 0.9081 - loss: 0.2346 - val_accuracy: 0.9084 - val_loss: 0.2384 - learning_rate: 7.8125e-07\n",
            "Epoch 19/100\n",
            "\u001b[1m5074/5074\u001b[0m \u001b[32m━━━━━━━━━━━━━━━━━━━━\u001b[0m\u001b[37m\u001b[0m \u001b[1m20s\u001b[0m 3ms/step - accuracy: 0.9093 - loss: 0.2339 - val_accuracy: 0.9084 - val_loss: 0.2384 - learning_rate: 3.9062e-07\n",
            "Epoch 20/100\n",
            "\u001b[1m5074/5074\u001b[0m \u001b[32m━━━━━━━━━━━━━━━━━━━━\u001b[0m\u001b[37m\u001b[0m \u001b[1m21s\u001b[0m 3ms/step - accuracy: 0.9107 - loss: 0.2308 - val_accuracy: 0.9084 - val_loss: 0.2384 - learning_rate: 1.9531e-07\n"
          ]
        },
        {
          "output_type": "display_data",
          "data": {
            "text/plain": [
              "<Figure size 640x480 with 1 Axes>"
            ],
            "image/png": "[encoded data removed]"
          },
          "metadata": {}
        }
      ]
    },
    {
      "cell_type": "code",
      "source": [
        "!pip install keras-tuner\n"
      ],
      "metadata": {
        "colab": {
          "base_uri": "https://localhost:8080/"
        },
        "id": "mWQqroTO9fXM",
        "outputId": "fcfb4101-02f9-4978-c022-6f66915b31aa"
      },
      "execution_count": 10,
      "outputs": [
        {
          "output_type": "stream",
          "name": "stdout",
          "text": [
            "Collecting keras-tuner\n",
            "  Downloading keras_tuner-1.4.7-py3-none-any.whl.metadata (5.4 kB)\n",
            "Requirement already satisfied: keras in /usr/local/lib/python3.10/dist-packages (from keras-tuner) (3.4.1)\n",
            "Requirement already satisfied: packaging in /usr/local/lib/python3.10/dist-packages (from keras-tuner) (24.1)\n",
            "Requirement already satisfied: requests in /usr/local/lib/python3.10/dist-packages (from keras-tuner) (2.32.3)\n",
            "Collecting kt-legacy (from keras-tuner)\n",
            "  Downloading kt_legacy-1.0.5-py3-none-any.whl.metadata (221 bytes)\n",
            "Requirement already satisfied: absl-py in /usr/local/lib/python3.10/dist-packages (from keras->keras-tuner) (1.4.0)\n",
            "Requirement already satisfied: numpy in /usr/local/lib/python3.10/dist-packages (from keras->keras-tuner) (1.26.4)\n",
            "Requirement already satisfied: rich in /usr/local/lib/python3.10/dist-packages (from keras->keras-tuner) (13.9.2)\n",
            "Requirement already satisfied: namex in /usr/local/lib/python3.10/dist-packages (from keras->keras-tuner) (0.0.8)\n",
            "Requirement already satisfied: h5py in /usr/local/lib/python3.10/dist-packages (from keras->keras-tuner) (3.11.0)\n",
            "Requirement already satisfied: optree in /usr/local/lib/python3.10/dist-packages (from keras->keras-tuner) (0.13.0)\n",
            "Requirement already satisfied: ml-dtypes in /usr/local/lib/python3.10/dist-packages (from keras->keras-tuner) (0.4.1)\n",
            "Requirement already satisfied: charset-normalizer<4,>=2 in /usr/local/lib/python3.10/dist-packages (from requests->keras-tuner) (3.4.0)\n",
            "Requirement already satisfied: idna<4,>=2.5 in /usr/local/lib/python3.10/dist-packages (from requests->keras-tuner) (3.10)\n",
            "Requirement already satisfied: urllib3<3,>=1.21.1 in /usr/local/lib/python3.10/dist-packages (from requests->keras-tuner) (2.2.3)\n",
            "Requirement already satisfied: certifi>=2017.4.17 in /usr/local/lib/python3.10/dist-packages (from requests->keras-tuner) (2024.8.30)\n",
            "Requirement already satisfied: typing-extensions>=4.5.0 in /usr/local/lib/python3.10/dist-packages (from optree->keras->keras-tuner) (4.12.2)\n",
            "Requirement already satisfied: markdown-it-py>=2.2.0 in /usr/local/lib/python3.10/dist-packages (from rich->keras->keras-tuner) (3.0.0)\n",
            "Requirement already satisfied: pygments<3.0.0,>=2.13.0 in /usr/local/lib/python3.10/dist-packages (from rich->keras->keras-tuner) (2.18.0)\n",
            "Requirement already satisfied: mdurl~=0.1 in /usr/local/lib/python3.10/dist-packages (from markdown-it-py>=2.2.0->rich->keras->keras-tuner) (0.1.2)\n",
            "Downloading keras_tuner-1.4.7-py3-none-any.whl (129 kB)\n",
            "\u001b[2K   \u001b[90m━━━━━━━━━━━━━━━━━━━━━━━━━━━━━━━━━━━━━━━━\u001b[0m \u001b[32m129.1/129.1 kB\u001b[0m \u001b[31m8.2 MB/s\u001b[0m eta \u001b[36m0:00:00\u001b[0m\n",
            "\u001b[?25hDownloading kt_legacy-1.0.5-py3-none-any.whl (9.6 kB)\n",
            "Installing collected packages: kt-legacy, keras-tuner\n",
            "Successfully installed keras-tuner-1.4.7 kt-legacy-1.0.5\n"
          ]
        }
      ]
    },
    {
      "cell_type": "code",
      "source": [
        "import pandas as pd\n",
        "from sklearn.preprocessing import StandardScaler\n",
        "from sklearn.model_selection import train_test_split\n",
        "from sklearn.metrics import confusion_matrix, classification_report, roc_auc_score\n",
        "from keras.models import Sequential\n",
        "from keras.layers import Dense\n",
        "from keras.optimizers import Adam\n",
        "import keras_tuner as kt\n",
        "\n",
        "# Load the dataset\n",
        "df = pd.read_csv('heart_disease_health_indicators.csv')\n",
        "print(df.head())\n",
        "print(df.isnull().sum())\n",
        "\n",
        "# Preprocess data\n",
        "df.fillna(method='ffill', inplace=True)  # Example: forward fill\n",
        "X = df.drop('HeartDiseaseorAttack', axis=1)\n",
        "y = df['HeartDiseaseorAttack']\n",
        "\n",
        "scaler = StandardScaler()\n",
        "X_scaled = scaler.fit_transform(X)\n",
        "\n",
        "X_train, X_test, y_train, y_test = train_test_split(X_scaled, y, test_size=0.2, random_state=42)\n",
        "\n",
        "# Define a function to build the model, which will be tuned\n",
        "def build_model(hp):\n",
        "    model = Sequential()\n",
        "    # Tune the number of units in the first Dense layer\n",
        "    model.add(Dense(units=hp.Int('units', min_value=32, max_value=512, step=32), activation='relu', input_shape=(X_train.shape[1],)))\n",
        "\n",
        "    # Tune the number of layers and neurons\n",
        "    for i in range(hp.Int('num_layers', 1, 4)):\n",
        "        model.add(Dense(units=hp.Int(f'layer_{i}_units', min_value=32, max_value=512, step=32), activation='relu'))\n",
        "\n",
        "    # Output layer (for binary classification)\n",
        "    model.add(Dense(1, activation='sigmoid'))\n",
        "\n",
        "    # Tune the learning rate\n",
        "    learning_rate = hp.Choice('learning_rate', values=[1e-2, 1e-3, 1e-4])\n",
        "    optimizer = Adam(learning_rate=learning_rate)\n",
        "\n",
        "    # Compile the model\n",
        "    model.compile(optimizer=optimizer, loss='binary_crossentropy', metrics=['accuracy'])\n",
        "    return model\n",
        "\n",
        "# Set up the Keras Tuner\n",
        "tuner = kt.RandomSearch(\n",
        "    build_model,\n",
        "    objective='val_accuracy',\n",
        "    max_trials=5,  # Number of models to try\n",
        "    executions_per_trial=1,  # Number of times to train the model with the same hyperparameters\n",
        "    directory='my_dir',\n",
        "    project_name='heart_disease_tuning'\n",
        ")\n",
        "\n",
        "# Search for the best hyperparameters\n",
        "tuner.search(X_train, y_train, epochs=10, validation_split=0.2, batch_size=32)\n",
        "\n",
        "# Get the best hyperparameters\n",
        "best_hps = tuner.get_best_hyperparameters(num_trials=1)[0]\n",
        "print(f\"Best number of units in the first layer: {best_hps.get('units')}\")\n",
        "print(f\"Best number of layers: {best_hps.get('num_layers')}\")\n",
        "print(f\"Best learning rate: {best_hps.get('learning_rate')}\")\n",
        "\n",
        "# Build the best model and retrain it\n",
        "best_model = tuner.hypermodel.build(best_hps)\n",
        "history = best_model.fit(X_train, y_train, epochs=50, validation_split=0.2, batch_size=32)\n",
        "\n",
        "# Evaluate and print metrics\n",
        "y_pred = (best_model.predict(X_test) > 0.5).astype(\"int32\")\n",
        "print(confusion_matrix(y_test, y_pred))\n",
        "print(classification_report(y_test, y_pred))\n",
        "print(\"ROC AUC Score:\", roc_auc_score(y_test, y_pred))\n"
      ],
      "metadata": {
        "colab": {
          "base_uri": "https://localhost:8080/"
        },
        "id": "-soVdtxb7-5v",
        "outputId": "1bbfc7e2-85c5-41be-acaa-3b6c1cf8864c"
      },
      "execution_count": 12,
      "outputs": [
        {
          "output_type": "stream",
          "name": "stdout",
          "text": [
            "Trial 5 Complete [00h 06m 06s]\n",
            "val_accuracy: 0.9073079228401184\n",
            "\n",
            "Best val_accuracy So Far: 0.9078746438026428\n",
            "Total elapsed time: 01h 32m 22s\n",
            "Best number of units in the first layer: 352\n",
            "Best number of layers: 4\n",
            "Best learning rate: 0.0001\n",
            "Epoch 1/50\n",
            "\u001b[1m5074/5074\u001b[0m \u001b[32m━━━━━━━━━━━━━━━━━━━━\u001b[0m\u001b[37m\u001b[0m \u001b[1m47s\u001b[0m 9ms/step - accuracy: 0.9062 - loss: 0.2539 - val_accuracy: 0.9076 - val_loss: 0.2415\n",
            "Epoch 2/50\n",
            "\u001b[1m5074/5074\u001b[0m \u001b[32m━━━━━━━━━━━━━━━━━━━━\u001b[0m\u001b[37m\u001b[0m \u001b[1m46s\u001b[0m 9ms/step - accuracy: 0.9081 - loss: 0.2379 - val_accuracy: 0.9072 - val_loss: 0.2385\n",
            "Epoch 3/50\n",
            "\u001b[1m5074/5074\u001b[0m \u001b[32m━━━━━━━━━━━━━━━━━━━━\u001b[0m\u001b[37m\u001b[0m \u001b[1m78s\u001b[0m 8ms/step - accuracy: 0.9073 - loss: 0.2370 - val_accuracy: 0.9077 - val_loss: 0.2391\n",
            "Epoch 4/50\n",
            "\u001b[1m5074/5074\u001b[0m \u001b[32m━━━━━━━━━━━━━━━━━━━━\u001b[0m\u001b[37m\u001b[0m \u001b[1m82s\u001b[0m 8ms/step - accuracy: 0.9100 - loss: 0.2316 - val_accuracy: 0.9068 - val_loss: 0.2403\n",
            "Epoch 5/50\n",
            "\u001b[1m5074/5074\u001b[0m \u001b[32m━━━━━━━━━━━━━━━━━━━━\u001b[0m\u001b[37m\u001b[0m \u001b[1m84s\u001b[0m 9ms/step - accuracy: 0.9090 - loss: 0.2340 - val_accuracy: 0.9075 - val_loss: 0.2387\n",
            "Epoch 6/50\n",
            "\u001b[1m5074/5074\u001b[0m \u001b[32m━━━━━━━━━━━━━━━━━━━━\u001b[0m\u001b[37m\u001b[0m \u001b[1m47s\u001b[0m 9ms/step - accuracy: 0.9092 - loss: 0.2338 - val_accuracy: 0.9075 - val_loss: 0.2393\n",
            "Epoch 7/50\n",
            "\u001b[1m5074/5074\u001b[0m \u001b[32m━━━━━━━━━━━━━━━━━━━━\u001b[0m\u001b[37m\u001b[0m \u001b[1m80s\u001b[0m 9ms/step - accuracy: 0.9095 - loss: 0.2308 - val_accuracy: 0.9040 - val_loss: 0.2429\n",
            "Epoch 8/50\n",
            "\u001b[1m5074/5074\u001b[0m \u001b[32m━━━━━━━━━━━━━━━━━━━━\u001b[0m\u001b[37m\u001b[0m \u001b[1m84s\u001b[0m 9ms/step - accuracy: 0.9099 - loss: 0.2299 - val_accuracy: 0.9070 - val_loss: 0.2409\n",
            "Epoch 9/50\n",
            "\u001b[1m5074/5074\u001b[0m \u001b[32m━━━━━━━━━━━━━━━━━━━━\u001b[0m\u001b[37m\u001b[0m \u001b[1m80s\u001b[0m 9ms/step - accuracy: 0.9108 - loss: 0.2268 - val_accuracy: 0.9062 - val_loss: 0.2435\n",
            "Epoch 10/50\n",
            "\u001b[1m5074/5074\u001b[0m \u001b[32m━━━━━━━━━━━━━━━━━━━━\u001b[0m\u001b[37m\u001b[0m \u001b[1m84s\u001b[0m 9ms/step - accuracy: 0.9125 - loss: 0.2232 - val_accuracy: 0.9028 - val_loss: 0.2459\n",
            "Epoch 11/50\n",
            "\u001b[1m5074/5074\u001b[0m \u001b[32m━━━━━━━━━━━━━━━━━━━━\u001b[0m\u001b[37m\u001b[0m \u001b[1m82s\u001b[0m 9ms/step - accuracy: 0.9129 - loss: 0.2209 - val_accuracy: 0.9057 - val_loss: 0.2452\n",
            "Epoch 12/50\n",
            "\u001b[1m5074/5074\u001b[0m \u001b[32m━━━━━━━━━━━━━━━━━━━━\u001b[0m\u001b[37m\u001b[0m \u001b[1m82s\u001b[0m 9ms/step - accuracy: 0.9158 - loss: 0.2158 - val_accuracy: 0.9037 - val_loss: 0.2496\n",
            "Epoch 13/50\n",
            "\u001b[1m5074/5074\u001b[0m \u001b[32m━━━━━━━━━━━━━━━━━━━━\u001b[0m\u001b[37m\u001b[0m \u001b[1m80s\u001b[0m 9ms/step - accuracy: 0.9163 - loss: 0.2130 - val_accuracy: 0.9043 - val_loss: 0.2575\n",
            "Epoch 14/50\n",
            "\u001b[1m5074/5074\u001b[0m \u001b[32m━━━━━━━━━━━━━━━━━━━━\u001b[0m\u001b[37m\u001b[0m \u001b[1m83s\u001b[0m 9ms/step - accuracy: 0.9187 - loss: 0.2072 - val_accuracy: 0.9034 - val_loss: 0.2586\n",
            "Epoch 15/50\n",
            "\u001b[1m5074/5074\u001b[0m \u001b[32m━━━━━━━━━━━━━━━━━━━━\u001b[0m\u001b[37m\u001b[0m \u001b[1m83s\u001b[0m 9ms/step - accuracy: 0.9212 - loss: 0.2017 - val_accuracy: 0.9038 - val_loss: 0.2678\n",
            "Epoch 16/50\n",
            "\u001b[1m5074/5074\u001b[0m \u001b[32m━━━━━━━━━━━━━━━━━━━━\u001b[0m\u001b[37m\u001b[0m \u001b[1m81s\u001b[0m 9ms/step - accuracy: 0.9230 - loss: 0.1964 - val_accuracy: 0.9008 - val_loss: 0.2659\n",
            "Epoch 17/50\n",
            "\u001b[1m5074/5074\u001b[0m \u001b[32m━━━━━━━━━━━━━━━━━━━━\u001b[0m\u001b[37m\u001b[0m \u001b[1m79s\u001b[0m 9ms/step - accuracy: 0.9251 - loss: 0.1914 - val_accuracy: 0.8965 - val_loss: 0.2737\n",
            "Epoch 18/50\n",
            "\u001b[1m5074/5074\u001b[0m \u001b[32m━━━━━━━━━━━━━━━━━━━━\u001b[0m\u001b[37m\u001b[0m \u001b[1m84s\u001b[0m 9ms/step - accuracy: 0.9281 - loss: 0.1858 - val_accuracy: 0.8856 - val_loss: 0.2887\n",
            "Epoch 19/50\n",
            "\u001b[1m5074/5074\u001b[0m \u001b[32m━━━━━━━━━━━━━━━━━━━━\u001b[0m\u001b[37m\u001b[0m \u001b[1m46s\u001b[0m 9ms/step - accuracy: 0.9301 - loss: 0.1809 - val_accuracy: 0.8932 - val_loss: 0.2975\n",
            "Epoch 20/50\n",
            "\u001b[1m5074/5074\u001b[0m \u001b[32m━━━━━━━━━━━━━━━━━━━━\u001b[0m\u001b[37m\u001b[0m \u001b[1m80s\u001b[0m 9ms/step - accuracy: 0.9327 - loss: 0.1742 - val_accuracy: 0.8934 - val_loss: 0.3005\n",
            "Epoch 21/50\n",
            "\u001b[1m5074/5074\u001b[0m \u001b[32m━━━━━━━━━━━━━━━━━━━━\u001b[0m\u001b[37m\u001b[0m \u001b[1m83s\u001b[0m 9ms/step - accuracy: 0.9354 - loss: 0.1693 - val_accuracy: 0.8945 - val_loss: 0.3134\n",
            "Epoch 22/50\n",
            "\u001b[1m5074/5074\u001b[0m \u001b[32m━━━━━━━━━━━━━━━━━━━━\u001b[0m\u001b[37m\u001b[0m \u001b[1m45s\u001b[0m 9ms/step - accuracy: 0.9377 - loss: 0.1634 - val_accuracy: 0.8877 - val_loss: 0.3301\n",
            "Epoch 23/50\n",
            "\u001b[1m5074/5074\u001b[0m \u001b[32m━━━━━━━━━━━━━━━━━━━━\u001b[0m\u001b[37m\u001b[0m \u001b[1m47s\u001b[0m 9ms/step - accuracy: 0.9397 - loss: 0.1585 - val_accuracy: 0.8882 - val_loss: 0.3370\n",
            "Epoch 24/50\n",
            "\u001b[1m5074/5074\u001b[0m \u001b[32m━━━━━━━━━━━━━━━━━━━━\u001b[0m\u001b[37m\u001b[0m \u001b[1m81s\u001b[0m 9ms/step - accuracy: 0.9419 - loss: 0.1526 - val_accuracy: 0.8878 - val_loss: 0.3459\n",
            "Epoch 25/50\n",
            "\u001b[1m5074/5074\u001b[0m \u001b[32m━━━━━━━━━━━━━━━━━━━━\u001b[0m\u001b[37m\u001b[0m \u001b[1m43s\u001b[0m 9ms/step - accuracy: 0.9443 - loss: 0.1488 - val_accuracy: 0.8898 - val_loss: 0.3712\n",
            "Epoch 26/50\n",
            "\u001b[1m5074/5074\u001b[0m \u001b[32m━━━━━━━━━━━━━━━━━━━━\u001b[0m\u001b[37m\u001b[0m \u001b[1m46s\u001b[0m 9ms/step - accuracy: 0.9452 - loss: 0.1445 - val_accuracy: 0.8915 - val_loss: 0.3723\n",
            "Epoch 27/50\n",
            "\u001b[1m5074/5074\u001b[0m \u001b[32m━━━━━━━━━━━━━━━━━━━━\u001b[0m\u001b[37m\u001b[0m \u001b[1m82s\u001b[0m 9ms/step - accuracy: 0.9477 - loss: 0.1381 - val_accuracy: 0.8869 - val_loss: 0.3961\n",
            "Epoch 28/50\n",
            "\u001b[1m5074/5074\u001b[0m \u001b[32m━━━━━━━━━━━━━━━━━━━━\u001b[0m\u001b[37m\u001b[0m \u001b[1m48s\u001b[0m 9ms/step - accuracy: 0.9501 - loss: 0.1354 - val_accuracy: 0.8795 - val_loss: 0.4237\n",
            "Epoch 29/50\n",
            "\u001b[1m5074/5074\u001b[0m \u001b[32m━━━━━━━━━━━━━━━━━━━━\u001b[0m\u001b[37m\u001b[0m \u001b[1m45s\u001b[0m 9ms/step - accuracy: 0.9518 - loss: 0.1294 - val_accuracy: 0.8825 - val_loss: 0.4282\n",
            "Epoch 30/50\n",
            "\u001b[1m5074/5074\u001b[0m \u001b[32m━━━━━━━━━━━━━━━━━━━━\u001b[0m\u001b[37m\u001b[0m \u001b[1m84s\u001b[0m 9ms/step - accuracy: 0.9533 - loss: 0.1263 - val_accuracy: 0.8807 - val_loss: 0.4454\n",
            "Epoch 31/50\n",
            "\u001b[1m5074/5074\u001b[0m \u001b[32m━━━━━━━━━━━━━━━━━━━━\u001b[0m\u001b[37m\u001b[0m \u001b[1m47s\u001b[0m 9ms/step - accuracy: 0.9536 - loss: 0.1237 - val_accuracy: 0.8739 - val_loss: 0.4729\n",
            "Epoch 32/50\n",
            "\u001b[1m5074/5074\u001b[0m \u001b[32m━━━━━━━━━━━━━━━━━━━━\u001b[0m\u001b[37m\u001b[0m \u001b[1m79s\u001b[0m 9ms/step - accuracy: 0.9551 - loss: 0.1205 - val_accuracy: 0.8831 - val_loss: 0.4603\n",
            "Epoch 33/50\n",
            "\u001b[1m5074/5074\u001b[0m \u001b[32m━━━━━━━━━━━━━━━━━━━━\u001b[0m\u001b[37m\u001b[0m \u001b[1m82s\u001b[0m 9ms/step - accuracy: 0.9571 - loss: 0.1155 - val_accuracy: 0.8755 - val_loss: 0.5157\n",
            "Epoch 34/50\n",
            "\u001b[1m5074/5074\u001b[0m \u001b[32m━━━━━━━━━━━━━━━━━━━━\u001b[0m\u001b[37m\u001b[0m \u001b[1m83s\u001b[0m 9ms/step - accuracy: 0.9586 - loss: 0.1118 - val_accuracy: 0.8856 - val_loss: 0.5145\n",
            "Epoch 35/50\n",
            "\u001b[1m5074/5074\u001b[0m \u001b[32m━━━━━━━━━━━━━━━━━━━━\u001b[0m\u001b[37m\u001b[0m \u001b[1m43s\u001b[0m 8ms/step - accuracy: 0.9598 - loss: 0.1088 - val_accuracy: 0.8879 - val_loss: 0.5151\n",
            "Epoch 36/50\n",
            "\u001b[1m5074/5074\u001b[0m \u001b[32m━━━━━━━━━━━━━━━━━━━━\u001b[0m\u001b[37m\u001b[0m \u001b[1m85s\u001b[0m 9ms/step - accuracy: 0.9609 - loss: 0.1052 - val_accuracy: 0.8795 - val_loss: 0.5274\n",
            "Epoch 37/50\n",
            "\u001b[1m5074/5074\u001b[0m \u001b[32m━━━━━━━━━━━━━━━━━━━━\u001b[0m\u001b[37m\u001b[0m \u001b[1m81s\u001b[0m 9ms/step - accuracy: 0.9616 - loss: 0.1032 - val_accuracy: 0.8852 - val_loss: 0.5521\n",
            "Epoch 38/50\n",
            "\u001b[1m5074/5074\u001b[0m \u001b[32m━━━━━━━━━━━━━━━━━━━━\u001b[0m\u001b[37m\u001b[0m \u001b[1m82s\u001b[0m 9ms/step - accuracy: 0.9633 - loss: 0.1012 - val_accuracy: 0.8885 - val_loss: 0.6083\n",
            "Epoch 39/50\n",
            "\u001b[1m5074/5074\u001b[0m \u001b[32m━━━━━━━━━━━━━━━━━━━━\u001b[0m\u001b[37m\u001b[0m \u001b[1m84s\u001b[0m 9ms/step - accuracy: 0.9639 - loss: 0.0998 - val_accuracy: 0.8794 - val_loss: 0.5812\n",
            "Epoch 40/50\n",
            "\u001b[1m5074/5074\u001b[0m \u001b[32m━━━━━━━━━━━━━━━━━━━━\u001b[0m\u001b[37m\u001b[0m \u001b[1m81s\u001b[0m 9ms/step - accuracy: 0.9643 - loss: 0.0982 - val_accuracy: 0.8840 - val_loss: 0.5943\n",
            "Epoch 41/50\n",
            "\u001b[1m5074/5074\u001b[0m \u001b[32m━━━━━━━━━━━━━━━━━━━━\u001b[0m\u001b[37m\u001b[0m \u001b[1m82s\u001b[0m 9ms/step - accuracy: 0.9669 - loss: 0.0913 - val_accuracy: 0.8832 - val_loss: 0.5957\n",
            "Epoch 42/50\n",
            "\u001b[1m5074/5074\u001b[0m \u001b[32m━━━━━━━━━━━━━━━━━━━━\u001b[0m\u001b[37m\u001b[0m \u001b[1m82s\u001b[0m 9ms/step - accuracy: 0.9666 - loss: 0.0924 - val_accuracy: 0.8828 - val_loss: 0.6264\n",
            "Epoch 43/50\n",
            "\u001b[1m5074/5074\u001b[0m \u001b[32m━━━━━━━━━━━━━━━━━━━━\u001b[0m\u001b[37m\u001b[0m \u001b[1m80s\u001b[0m 9ms/step - accuracy: 0.9662 - loss: 0.0915 - val_accuracy: 0.8818 - val_loss: 0.6627\n",
            "Epoch 44/50\n",
            "\u001b[1m5074/5074\u001b[0m \u001b[32m━━━━━━━━━━━━━━━━━━━━\u001b[0m\u001b[37m\u001b[0m \u001b[1m82s\u001b[0m 9ms/step - accuracy: 0.9674 - loss: 0.0888 - val_accuracy: 0.8712 - val_loss: 0.6554\n",
            "Epoch 45/50\n",
            "\u001b[1m5074/5074\u001b[0m \u001b[32m━━━━━━━━━━━━━━━━━━━━\u001b[0m\u001b[37m\u001b[0m \u001b[1m84s\u001b[0m 9ms/step - accuracy: 0.9673 - loss: 0.0884 - val_accuracy: 0.8866 - val_loss: 0.6662\n",
            "Epoch 46/50\n",
            "\u001b[1m5074/5074\u001b[0m \u001b[32m━━━━━━━━━━━━━━━━━━━━\u001b[0m\u001b[37m\u001b[0m \u001b[1m79s\u001b[0m 9ms/step - accuracy: 0.9687 - loss: 0.0872 - val_accuracy: 0.8800 - val_loss: 0.7001\n",
            "Epoch 47/50\n",
            "\u001b[1m5074/5074\u001b[0m \u001b[32m━━━━━━━━━━━━━━━━━━━━\u001b[0m\u001b[37m\u001b[0m \u001b[1m82s\u001b[0m 9ms/step - accuracy: 0.9689 - loss: 0.0854 - val_accuracy: 0.8818 - val_loss: 0.7004\n",
            "Epoch 48/50\n",
            "\u001b[1m5074/5074\u001b[0m \u001b[32m━━━━━━━━━━━━━━━━━━━━\u001b[0m\u001b[37m\u001b[0m \u001b[1m44s\u001b[0m 9ms/step - accuracy: 0.9703 - loss: 0.0827 - val_accuracy: 0.8794 - val_loss: 0.7383\n",
            "Epoch 49/50\n",
            "\u001b[1m5074/5074\u001b[0m \u001b[32m━━━━━━━━━━━━━━━━━━━━\u001b[0m\u001b[37m\u001b[0m \u001b[1m46s\u001b[0m 9ms/step - accuracy: 0.9706 - loss: 0.0814 - val_accuracy: 0.8669 - val_loss: 0.7236\n",
            "Epoch 50/50\n",
            "\u001b[1m5074/5074\u001b[0m \u001b[32m━━━━━━━━━━━━━━━━━━━━\u001b[0m\u001b[37m\u001b[0m \u001b[1m44s\u001b[0m 9ms/step - accuracy: 0.9701 - loss: 0.0824 - val_accuracy: 0.8748 - val_loss: 0.7308\n",
            "\u001b[1m1586/1586\u001b[0m \u001b[32m━━━━━━━━━━━━━━━━━━━━\u001b[0m\u001b[37m\u001b[0m \u001b[1m4s\u001b[0m 3ms/step\n",
            "[[43325  2715]\n",
            " [ 3619  1074]]\n",
            "              precision    recall  f1-score   support\n",
            "\n",
            "           0       0.92      0.94      0.93     46040\n",
            "           1       0.28      0.23      0.25      4693\n",
            "\n",
            "    accuracy                           0.88     50733\n",
            "   macro avg       0.60      0.58      0.59     50733\n",
            "weighted avg       0.86      0.88      0.87     50733\n",
            "\n",
            "ROC AUC Score: 0.584940510229943\n"
          ]
        }
      ]
    },
    {
      "cell_type": "code",
      "source": [
        "\n"
      ],
      "metadata": {
        "id": "65GqxWNi9ZOC"
      },
      "execution_count": null,
      "outputs": []
    }
  ]
}